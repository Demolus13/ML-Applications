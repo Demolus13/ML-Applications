{
 "cells": [
  {
   "cell_type": "markdown",
   "metadata": {},
   "source": [
    "## Hand Gesture Recognition Models"
   ]
  },
  {
   "cell_type": "markdown",
   "metadata": {},
   "source": [
    "### Imports and Utils"
   ]
  },
  {
   "cell_type": "code",
   "execution_count": 1,
   "metadata": {},
   "outputs": [],
   "source": [
    "\"\"\"\n",
    "Importing necessary libraries\n",
    "\"\"\"\n",
    "import os\n",
    "import cv2\n",
    "import mediapipe as mp\n",
    "\n",
    "import torch\n",
    "\n",
    "# Remove all the warnings\n",
    "import warnings\n",
    "warnings.filterwarnings('ignore')\n",
    "\n",
    "# Set env CUDA_LAUNCH_BLOCKING=1\n",
    "os.environ['CUDA_LAUNCH_BLOCKING'] = '1'\n",
    "device = torch.device(\"cuda\" if torch.cuda.is_available() else \"cpu\")\n",
    "\n",
    "# Initialize MediaPipe Imports\n",
    "mp_drawings = mp.solutions.drawing_utils\n",
    "mp_hands = mp.solutions.hands"
   ]
  },
  {
   "cell_type": "code",
   "execution_count": 2,
   "metadata": {},
   "outputs": [],
   "source": [
    "\"\"\"\n",
    "Defining Utiliy Functions\n",
    "\"\"\"\n",
    "\n",
    "def landmarks_to_list(image, multi_hand_landmarks) -> torch.Tensor:\n",
    "    \"\"\"\n",
    "    image: The image on which the landmarks are detected\n",
    "    multi_hand_landmarks: The landmarks of the hand\n",
    "\n",
    "    Returns: torch.Tensor: The tensor of landmarks [x, y]\n",
    "    \"\"\"\n",
    "\n",
    "    image_height, image_width, _ = image.shape\n",
    "\n",
    "    landmarks_list = []\n",
    "    if multi_hand_landmarks:\n",
    "        for hand_landmarks in multi_hand_landmarks:\n",
    "            for landmark in hand_landmarks.landmark:\n",
    "                # orgin is top left corner (0, 0)\n",
    "                landmarks_list.append([min(int(landmark.x * image_width), image_width - 1), -min(int(landmark.y * image_height), image_height - 1)])\n",
    "\n",
    "    return torch.tensor(landmarks_list)\n",
    "\n",
    "def normalize_landmarks(landmarks: torch.Tensor) -> torch.Tensor:\n",
    "    \"\"\"\n",
    "    landmarks: torch.Tensor: The landmarks of the hand\n",
    "\n",
    "    Returns: torch.Tensor: The normalized landmarks\n",
    "    \"\"\"\n",
    "\n",
    "    landmarks = landmarks - landmarks[0]\n",
    "    landmarks = landmarks / torch.max(landmarks)\n",
    "\n",
    "    return landmarks"
   ]
  },
  {
   "cell_type": "markdown",
   "metadata": {},
   "source": [
    "### Dataset Creation and Preprocessing"
   ]
  },
  {
   "cell_type": "code",
   "execution_count": 5,
   "metadata": {},
   "outputs": [],
   "source": [
    "# Initialize MediaPipe Hands\n",
    "HandLandmarker = mp_hands.Hands(\n",
    "    static_image_mode=False,\n",
    "    max_num_hands=2,\n",
    "    min_detection_confidence=0.8,\n",
    "    min_tracking_confidence=0.5\n",
    ")\n",
    "\n",
    "# Initialize the webcam\n",
    "cap = cv2.VideoCapture(0)\n",
    "dataset = []\n",
    "\n",
    "with HandLandmarker as landmarker:\n",
    "    while cap.isOpened():\n",
    "        success, frame = cap.read()\n",
    "        if not success:\n",
    "            print(\"Ignoring empty camera frame.\")\n",
    "            continue\n",
    "\n",
    "        # the BGR image to RGB.\n",
    "        frame = cv2.flip(frame, 1)\n",
    "        frame = cv2.cvtColor(frame, cv2.COLOR_BGR2RGB)\n",
    "\n",
    "        # Dectect the hand landmarks\n",
    "        frame.flags.writeable = False\n",
    "        results = landmarker.process(frame)\n",
    "\n",
    "        # Draw the hand annotations on the image.\n",
    "        frame.flags.writeable = True\n",
    "        frame = cv2.cvtColor(frame, cv2.COLOR_RGB2BGR)\n",
    "        key = cv2.waitKey(5) & 0xFF\n",
    "        if results.multi_hand_landmarks:\n",
    "            for hand_landmarks in results.multi_hand_landmarks:\n",
    "                mp_drawings.draw_landmarks(\n",
    "                    frame,\n",
    "                    hand_landmarks,\n",
    "                    mp_hands.HAND_CONNECTIONS,\n",
    "                    mp_drawings.DrawingSpec(color=(97, 137, 48), thickness=2, circle_radius=4),\n",
    "                    mp_drawings.DrawingSpec(color=(255, 255, 255), thickness=2, circle_radius=2),\n",
    "                )\n",
    "            \n",
    "            if key != 255 and key != 27:\n",
    "                # Convert the landmarks to a list wrt the image\n",
    "                landmarks = landmarks_to_list(frame, results.multi_hand_landmarks)\n",
    "\n",
    "                # Normalize the landmarks\n",
    "                landmarks = normalize_landmarks(landmarks).flatten()\n",
    "\n",
    "                # Append the label to the landmarks and store in the dataset\n",
    "                dataset.append(torch.cat((landmarks, torch.tensor([int(chr(key))]))))\n",
    "                print(f\"Gesture Labelled: {chr(key)}\")\n",
    "\n",
    "        cv2.imshow('MediaPipe Hands', frame)\n",
    "        if key == 27: # ESC\n",
    "            break\n",
    "\n",
    "cap.release()\n",
    "cv2.destroyAllWindows()\n",
    "\n",
    "# Convert the dataset to a tensor\n",
    "dataset = torch.stack(dataset).to(device)"
   ]
  },
  {
   "cell_type": "markdown",
   "metadata": {},
   "source": [
    "### Model Creation and Training"
   ]
  },
  {
   "cell_type": "code",
   "execution_count": 54,
   "metadata": {},
   "outputs": [],
   "source": []
  },
  {
   "cell_type": "markdown",
   "metadata": {},
   "source": [
    "### Testing and Plotting"
   ]
  },
  {
   "cell_type": "code",
   "execution_count": null,
   "metadata": {},
   "outputs": [],
   "source": []
  }
 ],
 "metadata": {
  "kernelspec": {
   "display_name": "Python 3",
   "language": "python",
   "name": "python3"
  },
  "language_info": {
   "codemirror_mode": {
    "name": "ipython",
    "version": 3
   },
   "file_extension": ".py",
   "mimetype": "text/x-python",
   "name": "python",
   "nbconvert_exporter": "python",
   "pygments_lexer": "ipython3",
   "version": "3.11.3"
  }
 },
 "nbformat": 4,
 "nbformat_minor": 2
}
