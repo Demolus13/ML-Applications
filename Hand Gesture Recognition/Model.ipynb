{
 "cells": [
  {
   "cell_type": "markdown",
   "metadata": {},
   "source": [
    "## Hand Gesture Recognition Models"
   ]
  },
  {
   "cell_type": "markdown",
   "metadata": {},
   "source": [
    "### Imports and Utils"
   ]
  },
  {
   "cell_type": "code",
   "execution_count": 18,
   "metadata": {},
   "outputs": [],
   "source": [
    "\"\"\"\n",
    "Importing necessary libraries\n",
    "\"\"\"\n",
    "\n",
    "import cv2\n",
    "import mediapipe as mp\n",
    "\n",
    "import torch\n",
    "\n",
    "# Initialize MediaPipe Imports\n",
    "mp_drawings = mp.solutions.drawing_utils\n",
    "mp_hands = mp.solutions.hands"
   ]
  },
  {
   "cell_type": "code",
   "execution_count": 57,
   "metadata": {},
   "outputs": [],
   "source": [
    "\"\"\"\n",
    "Defining Utiliy Functions\n",
    "\"\"\"\n",
    "\n",
    "def landmarks_to_list(image, multi_hand_landmarks) -> torch.Tensor:\n",
    "    \"\"\"\n",
    "    image: The image on which the landmarks are detected\n",
    "    multi_hand_landmarks: The landmarks of the hand\n",
    "\n",
    "    Returns: torch.Tensor: The tensor of landmarks [x, y]\n",
    "    \"\"\"\n",
    "\n",
    "    image_height, image_width, _ = image.shape\n",
    "\n",
    "    landmarks_list = []\n",
    "    if multi_hand_landmarks:\n",
    "        for hand_landmarks in multi_hand_landmarks:\n",
    "            for landmark in hand_landmarks.landmark:\n",
    "                # orgin is top left corner (0, 0)\n",
    "                landmarks_list.append([min(int(landmark.x * image_width), image_width - 1), -min(int(landmark.y * image_height), image_height - 1)])\n",
    "\n",
    "    return torch.tensor(landmarks_list)\n",
    "\n",
    "def normalize_landmarks(landmarks: torch.Tensor) -> torch.Tensor:\n",
    "    \"\"\"\n",
    "    landmarks: torch.Tensor: The landmarks of the hand\n",
    "\n",
    "    Returns: torch.Tensor: The normalized landmarks\n",
    "    \"\"\"\n",
    "\n",
    "    landmarks = landmarks - landmarks[0]\n",
    "    landmarks = landmarks / torch.max(landmarks)\n",
    "\n",
    "    return landmarks"
   ]
  },
  {
   "cell_type": "markdown",
   "metadata": {},
   "source": [
    "### Dataset Loading and Preprocessing"
   ]
  },
  {
   "cell_type": "code",
   "execution_count": 5,
   "metadata": {},
   "outputs": [],
   "source": []
  },
  {
   "cell_type": "markdown",
   "metadata": {},
   "source": [
    "### Model Creation and Training"
   ]
  },
  {
   "cell_type": "code",
   "execution_count": 54,
   "metadata": {},
   "outputs": [],
   "source": [
    "# Initialize MediaPipe Hands\n",
    "HandLandmarker = mp_hands.Hands(\n",
    "    static_image_mode=False,\n",
    "    max_num_hands=2,\n",
    "    min_detection_confidence=0.8,\n",
    "    min_tracking_confidence=0.5\n",
    ")\n",
    "\n",
    "# Initialize the webcam\n",
    "cap = cv2.VideoCapture(0)\n",
    "\n",
    "with HandLandmarker as landmarker:\n",
    "    while cap.isOpened():\n",
    "        success, frame = cap.read()\n",
    "        if not success:\n",
    "            print(\"Ignoring empty camera frame.\")\n",
    "            continue\n",
    "\n",
    "        # the BGR image to RGB.\n",
    "        frame = cv2.flip(frame, 1)\n",
    "        frame = cv2.cvtColor(frame, cv2.COLOR_BGR2RGB)\n",
    "\n",
    "        # Dectect the hand landmarks\n",
    "        frame.flags.writeable = False\n",
    "        results = landmarker.process(frame)\n",
    "\n",
    "        # Draw the hand annotations on the image.\n",
    "        frame.flags.writeable = True\n",
    "        frame = cv2.cvtColor(frame, cv2.COLOR_RGB2BGR)\n",
    "        if results.multi_hand_landmarks:\n",
    "            for hand_landmarks in results.multi_hand_landmarks:\n",
    "                mp_drawings.draw_landmarks(\n",
    "                    frame,\n",
    "                    hand_landmarks,\n",
    "                    mp_hands.HAND_CONNECTIONS,\n",
    "                    mp_drawings.DrawingSpec(color=(97, 137, 48), thickness=2, circle_radius=4),\n",
    "                    mp_drawings.DrawingSpec(color=(255, 255, 255), thickness=2, circle_radius=2),\n",
    "                )\n",
    "\n",
    "        cv2.imshow('MediaPipe Hands', frame)\n",
    "        if cv2.waitKey(5) & 0xFF == 27: # ESC\n",
    "            break\n",
    "\n",
    "cap.release()\n",
    "cv2.destroyAllWindows()"
   ]
  },
  {
   "cell_type": "code",
   "execution_count": 58,
   "metadata": {},
   "outputs": [
    {
     "data": {
      "text/plain": [
       "tensor([[  72, -461],\n",
       "        [ 150, -435],\n",
       "        [ 213, -367],\n",
       "        [ 251, -302],\n",
       "        [ 284, -256],\n",
       "        [ 178, -264],\n",
       "        [ 204, -193],\n",
       "        [ 215, -148],\n",
       "        [ 224, -109],\n",
       "        [ 134, -251],\n",
       "        [ 157, -170],\n",
       "        [ 170, -117],\n",
       "        [ 181,  -72],\n",
       "        [  89, -256],\n",
       "        [ 101, -177],\n",
       "        [ 114, -129],\n",
       "        [ 128,  -87],\n",
       "        [  41, -274],\n",
       "        [  39, -214],\n",
       "        [  44, -176],\n",
       "        [  55, -138]])"
      ]
     },
     "execution_count": 58,
     "metadata": {},
     "output_type": "execute_result"
    }
   ],
   "source": [
    "# Convert the landmarks to a list wrt the image\n",
    "landmarks_list = landmarks_to_list(frame, results.multi_hand_landmarks)\n",
    "landmarks_list"
   ]
  },
  {
   "cell_type": "code",
   "execution_count": 59,
   "metadata": {},
   "outputs": [
    {
     "data": {
      "text/plain": [
       "tensor([[ 0.0000,  0.0000],\n",
       "        [ 0.2005,  0.0668],\n",
       "        [ 0.3625,  0.2416],\n",
       "        [ 0.4602,  0.4087],\n",
       "        [ 0.5450,  0.5270],\n",
       "        [ 0.2725,  0.5064],\n",
       "        [ 0.3393,  0.6889],\n",
       "        [ 0.3676,  0.8046],\n",
       "        [ 0.3907,  0.9049],\n",
       "        [ 0.1594,  0.5398],\n",
       "        [ 0.2185,  0.7481],\n",
       "        [ 0.2519,  0.8843],\n",
       "        [ 0.2802,  1.0000],\n",
       "        [ 0.0437,  0.5270],\n",
       "        [ 0.0746,  0.7301],\n",
       "        [ 0.1080,  0.8535],\n",
       "        [ 0.1440,  0.9614],\n",
       "        [-0.0797,  0.4807],\n",
       "        [-0.0848,  0.6350],\n",
       "        [-0.0720,  0.7326],\n",
       "        [-0.0437,  0.8303]])"
      ]
     },
     "execution_count": 59,
     "metadata": {},
     "output_type": "execute_result"
    }
   ],
   "source": [
    "# Normalize the landmarks\n",
    "landmarks_normalized = normalize_landmarks(landmarks_list)\n",
    "landmarks_normalized"
   ]
  },
  {
   "cell_type": "markdown",
   "metadata": {},
   "source": [
    "### Testing and Plotting"
   ]
  },
  {
   "cell_type": "code",
   "execution_count": null,
   "metadata": {},
   "outputs": [],
   "source": []
  }
 ],
 "metadata": {
  "kernelspec": {
   "display_name": "Python 3",
   "language": "python",
   "name": "python3"
  },
  "language_info": {
   "codemirror_mode": {
    "name": "ipython",
    "version": 3
   },
   "file_extension": ".py",
   "mimetype": "text/x-python",
   "name": "python",
   "nbconvert_exporter": "python",
   "pygments_lexer": "ipython3",
   "version": "3.11.3"
  }
 },
 "nbformat": 4,
 "nbformat_minor": 2
}
